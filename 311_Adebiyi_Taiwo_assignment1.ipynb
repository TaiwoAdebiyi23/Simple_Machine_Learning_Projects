{
 "cells": [
  {
   "cell_type": "markdown",
   "id": "8bad0ef4-8feb-4a52-902e-c41e441cf7b7",
   "metadata": {},
   "source": [
    "### 311_Adebiyi_Taiwo_Assignment_1"
   ]
  },
  {
   "cell_type": "code",
   "execution_count": 19,
   "id": "9ec78726-feee-4789-91c7-596884ee4839",
   "metadata": {},
   "outputs": [],
   "source": [
    "# Import libraries\n",
    "\n",
    "# First, let’s import all of the modules, functions and objects we are going to use in this tutorial.\n",
    "\n",
    "# Pandas for data handling\n",
    "import pandas # https://pandas.pydata.org/\n",
    "from pandas.plotting import scatter_matrix\n",
    "\n",
    "# pretty tables\n",
    "from IPython.display import display\n",
    "\n",
    "# NumPy for numerical computing\n",
    "import numpy # https://numpy.org/\n",
    "\n",
    "# MatPlotLib for visualization\n",
    "%matplotlib inline\n",
    "import matplotlib.pyplot as pl  # https://matplotlib.org/\n",
    "\n",
    "#seaborn for visualization\n",
    "import seaborn as sns   # https://seaborn.pydata.org/\n",
    "\n",
    "# assessment\n",
    "from sklearn import model_selection # for model comparisons\n",
    "from sklearn.metrics import accuracy_score\n",
    "from sklearn.metrics import confusion_matrix\n",
    "from sklearn.metrics import classification_report\n",
    "from sklearn.metrics import cohen_kappa_score\n",
    "\n",
    "# algorithms\n",
    "from sklearn.neighbors import KNeighborsClassifier\n",
    "from sklearn.linear_model import LogisticRegression\n",
    "from sklearn.linear_model import RidgeClassifier"
   ]
  },
  {
   "cell_type": "code",
   "execution_count": 2,
   "id": "e946aad4-1c85-475c-993b-b6eec00f787d",
   "metadata": {},
   "outputs": [
    {
     "name": "stdout",
     "output_type": "stream",
     "text": [
      "Loading data from file ...\n",
      "done \n",
      "\n",
      "Removing rows with missing data ...\n",
      "done \n",
      "\n"
     ]
    }
   ],
   "source": [
    "# QUESTION 1 - Loading Data\n",
    "print('Loading data from file ...')  \n",
    "dataset = pandas.read_csv('BDOShoham.csv')\n",
    "print('done \\n')\n",
    "\n",
    "print('Removing rows with missing data ...')\n",
    "dataset = dataset.dropna() \n",
    "print('done \\n')"
   ]
  },
  {
   "cell_type": "code",
   "execution_count": 3,
   "id": "52773bc9-4b18-4a29-8c28-29c72a76063d",
   "metadata": {},
   "outputs": [
    {
     "name": "stdout",
     "output_type": "stream",
     "text": [
      "Sample rows from the dataset (top and bottom five):\n"
     ]
    },
    {
     "data": {
      "text/html": [
       "<div>\n",
       "<style scoped>\n",
       "    .dataframe tbody tr th:only-of-type {\n",
       "        vertical-align: middle;\n",
       "    }\n",
       "\n",
       "    .dataframe tbody tr th {\n",
       "        vertical-align: top;\n",
       "    }\n",
       "\n",
       "    .dataframe thead th {\n",
       "        text-align: right;\n",
       "    }\n",
       "</style>\n",
       "<table border=\"1\" class=\"dataframe\">\n",
       "  <thead>\n",
       "    <tr style=\"text-align: right;\">\n",
       "      <th></th>\n",
       "      <th>FlowPattern</th>\n",
       "      <th>Vsl</th>\n",
       "      <th>Vsg</th>\n",
       "      <th>VisL</th>\n",
       "      <th>VisG</th>\n",
       "      <th>DenL</th>\n",
       "      <th>DenG</th>\n",
       "      <th>ST</th>\n",
       "      <th>Ang</th>\n",
       "      <th>ID</th>\n",
       "    </tr>\n",
       "  </thead>\n",
       "  <tbody>\n",
       "    <tr>\n",
       "      <th>0</th>\n",
       "      <td>1</td>\n",
       "      <td>6.3</td>\n",
       "      <td>0.025</td>\n",
       "      <td>0.001</td>\n",
       "      <td>0.00002</td>\n",
       "      <td>1000</td>\n",
       "      <td>1.8</td>\n",
       "      <td>0.07</td>\n",
       "      <td>0.0</td>\n",
       "      <td>0.051</td>\n",
       "    </tr>\n",
       "    <tr>\n",
       "      <th>1</th>\n",
       "      <td>1</td>\n",
       "      <td>4.0</td>\n",
       "      <td>0.040</td>\n",
       "      <td>0.001</td>\n",
       "      <td>0.00002</td>\n",
       "      <td>1000</td>\n",
       "      <td>1.8</td>\n",
       "      <td>0.07</td>\n",
       "      <td>0.0</td>\n",
       "      <td>0.051</td>\n",
       "    </tr>\n",
       "    <tr>\n",
       "      <th>2</th>\n",
       "      <td>1</td>\n",
       "      <td>6.3</td>\n",
       "      <td>0.040</td>\n",
       "      <td>0.001</td>\n",
       "      <td>0.00002</td>\n",
       "      <td>1000</td>\n",
       "      <td>1.8</td>\n",
       "      <td>0.07</td>\n",
       "      <td>0.0</td>\n",
       "      <td>0.051</td>\n",
       "    </tr>\n",
       "    <tr>\n",
       "      <th>3</th>\n",
       "      <td>1</td>\n",
       "      <td>4.0</td>\n",
       "      <td>0.063</td>\n",
       "      <td>0.001</td>\n",
       "      <td>0.00002</td>\n",
       "      <td>1000</td>\n",
       "      <td>1.8</td>\n",
       "      <td>0.07</td>\n",
       "      <td>0.0</td>\n",
       "      <td>0.051</td>\n",
       "    </tr>\n",
       "    <tr>\n",
       "      <th>4</th>\n",
       "      <td>1</td>\n",
       "      <td>6.3</td>\n",
       "      <td>0.063</td>\n",
       "      <td>0.001</td>\n",
       "      <td>0.00002</td>\n",
       "      <td>1000</td>\n",
       "      <td>1.8</td>\n",
       "      <td>0.07</td>\n",
       "      <td>0.0</td>\n",
       "      <td>0.051</td>\n",
       "    </tr>\n",
       "  </tbody>\n",
       "</table>\n",
       "</div>"
      ],
      "text/plain": [
       "   FlowPattern  Vsl    Vsg   VisL     VisG  DenL  DenG    ST  Ang     ID\n",
       "0            1  6.3  0.025  0.001  0.00002  1000   1.8  0.07  0.0  0.051\n",
       "1            1  4.0  0.040  0.001  0.00002  1000   1.8  0.07  0.0  0.051\n",
       "2            1  6.3  0.040  0.001  0.00002  1000   1.8  0.07  0.0  0.051\n",
       "3            1  4.0  0.063  0.001  0.00002  1000   1.8  0.07  0.0  0.051\n",
       "4            1  6.3  0.063  0.001  0.00002  1000   1.8  0.07  0.0  0.051"
      ]
     },
     "metadata": {},
     "output_type": "display_data"
    },
    {
     "data": {
      "text/html": [
       "<div>\n",
       "<style scoped>\n",
       "    .dataframe tbody tr th:only-of-type {\n",
       "        vertical-align: middle;\n",
       "    }\n",
       "\n",
       "    .dataframe tbody tr th {\n",
       "        vertical-align: top;\n",
       "    }\n",
       "\n",
       "    .dataframe thead th {\n",
       "        text-align: right;\n",
       "    }\n",
       "</style>\n",
       "<table border=\"1\" class=\"dataframe\">\n",
       "  <thead>\n",
       "    <tr style=\"text-align: right;\">\n",
       "      <th></th>\n",
       "      <th>FlowPattern</th>\n",
       "      <th>Vsl</th>\n",
       "      <th>Vsg</th>\n",
       "      <th>VisL</th>\n",
       "      <th>VisG</th>\n",
       "      <th>DenL</th>\n",
       "      <th>DenG</th>\n",
       "      <th>ST</th>\n",
       "      <th>Ang</th>\n",
       "      <th>ID</th>\n",
       "    </tr>\n",
       "  </thead>\n",
       "  <tbody>\n",
       "    <tr>\n",
       "      <th>5670</th>\n",
       "      <td>5</td>\n",
       "      <td>2.70096</td>\n",
       "      <td>15.8561</td>\n",
       "      <td>0.001</td>\n",
       "      <td>0.00002</td>\n",
       "      <td>1000</td>\n",
       "      <td>1.8</td>\n",
       "      <td>0.07</td>\n",
       "      <td>-80.0</td>\n",
       "      <td>0.025</td>\n",
       "    </tr>\n",
       "    <tr>\n",
       "      <th>5671</th>\n",
       "      <td>5</td>\n",
       "      <td>1.58784</td>\n",
       "      <td>15.8394</td>\n",
       "      <td>0.001</td>\n",
       "      <td>0.00002</td>\n",
       "      <td>1000</td>\n",
       "      <td>1.8</td>\n",
       "      <td>0.07</td>\n",
       "      <td>-80.0</td>\n",
       "      <td>0.025</td>\n",
       "    </tr>\n",
       "    <tr>\n",
       "      <th>5672</th>\n",
       "      <td>5</td>\n",
       "      <td>1.05338</td>\n",
       "      <td>16.0692</td>\n",
       "      <td>0.001</td>\n",
       "      <td>0.00002</td>\n",
       "      <td>1000</td>\n",
       "      <td>1.8</td>\n",
       "      <td>0.07</td>\n",
       "      <td>-80.0</td>\n",
       "      <td>0.025</td>\n",
       "    </tr>\n",
       "    <tr>\n",
       "      <th>5673</th>\n",
       "      <td>5</td>\n",
       "      <td>1.05397</td>\n",
       "      <td>25.7439</td>\n",
       "      <td>0.001</td>\n",
       "      <td>0.00002</td>\n",
       "      <td>1000</td>\n",
       "      <td>1.8</td>\n",
       "      <td>0.07</td>\n",
       "      <td>-80.0</td>\n",
       "      <td>0.025</td>\n",
       "    </tr>\n",
       "    <tr>\n",
       "      <th>5674</th>\n",
       "      <td>5</td>\n",
       "      <td>1.66789</td>\n",
       "      <td>26.1616</td>\n",
       "      <td>0.001</td>\n",
       "      <td>0.00002</td>\n",
       "      <td>1000</td>\n",
       "      <td>1.8</td>\n",
       "      <td>0.07</td>\n",
       "      <td>-80.0</td>\n",
       "      <td>0.025</td>\n",
       "    </tr>\n",
       "  </tbody>\n",
       "</table>\n",
       "</div>"
      ],
      "text/plain": [
       "      FlowPattern      Vsl      Vsg   VisL     VisG  DenL  DenG    ST   Ang  \\\n",
       "5670            5  2.70096  15.8561  0.001  0.00002  1000   1.8  0.07 -80.0   \n",
       "5671            5  1.58784  15.8394  0.001  0.00002  1000   1.8  0.07 -80.0   \n",
       "5672            5  1.05338  16.0692  0.001  0.00002  1000   1.8  0.07 -80.0   \n",
       "5673            5  1.05397  25.7439  0.001  0.00002  1000   1.8  0.07 -80.0   \n",
       "5674            5  1.66789  26.1616  0.001  0.00002  1000   1.8  0.07 -80.0   \n",
       "\n",
       "         ID  \n",
       "5670  0.025  \n",
       "5671  0.025  \n",
       "5672  0.025  \n",
       "5673  0.025  \n",
       "5674  0.025  "
      ]
     },
     "metadata": {},
     "output_type": "display_data"
    },
    {
     "name": "stdout",
     "output_type": "stream",
     "text": [
      "\n",
      "\n"
     ]
    }
   ],
   "source": [
    "#Question 1_contd - Previewing Data\n",
    "print('Sample rows from the dataset (top and bottom five):')  # Spot checks\n",
    "display(dataset.head(5))\n",
    "display(dataset.tail(5))\n",
    "print('\\n')"
   ]
  },
  {
   "cell_type": "code",
   "execution_count": 4,
   "id": "d89eb309-6eed-47e5-8a8f-86572a8bde07",
   "metadata": {},
   "outputs": [
    {
     "name": "stdout",
     "output_type": "stream",
     "text": [
      "Summary of the dataset - Univariate statistics\n"
     ]
    },
    {
     "data": {
      "text/html": [
       "<div>\n",
       "<style scoped>\n",
       "    .dataframe tbody tr th:only-of-type {\n",
       "        vertical-align: middle;\n",
       "    }\n",
       "\n",
       "    .dataframe tbody tr th {\n",
       "        vertical-align: top;\n",
       "    }\n",
       "\n",
       "    .dataframe thead th {\n",
       "        text-align: right;\n",
       "    }\n",
       "</style>\n",
       "<table border=\"1\" class=\"dataframe\">\n",
       "  <thead>\n",
       "    <tr style=\"text-align: right;\">\n",
       "      <th></th>\n",
       "      <th>FlowPattern</th>\n",
       "      <th>Vsl</th>\n",
       "      <th>Vsg</th>\n",
       "      <th>VisL</th>\n",
       "      <th>VisG</th>\n",
       "      <th>DenL</th>\n",
       "      <th>DenG</th>\n",
       "      <th>ST</th>\n",
       "      <th>Ang</th>\n",
       "      <th>ID</th>\n",
       "    </tr>\n",
       "  </thead>\n",
       "  <tbody>\n",
       "    <tr>\n",
       "      <th>count</th>\n",
       "      <td>5675.000000</td>\n",
       "      <td>5675.000000</td>\n",
       "      <td>5675.000000</td>\n",
       "      <td>5.675000e+03</td>\n",
       "      <td>5.675000e+03</td>\n",
       "      <td>5675.0</td>\n",
       "      <td>5.675000e+03</td>\n",
       "      <td>5.675000e+03</td>\n",
       "      <td>5675.000000</td>\n",
       "      <td>5675.000000</td>\n",
       "    </tr>\n",
       "    <tr>\n",
       "      <th>mean</th>\n",
       "      <td>4.059912</td>\n",
       "      <td>0.899747</td>\n",
       "      <td>6.222612</td>\n",
       "      <td>1.000000e-03</td>\n",
       "      <td>2.000000e-05</td>\n",
       "      <td>1000.0</td>\n",
       "      <td>1.800000e+00</td>\n",
       "      <td>7.000000e-02</td>\n",
       "      <td>2.727401</td>\n",
       "      <td>0.038657</td>\n",
       "    </tr>\n",
       "    <tr>\n",
       "      <th>std</th>\n",
       "      <td>1.379238</td>\n",
       "      <td>1.425159</td>\n",
       "      <td>8.699644</td>\n",
       "      <td>4.055273e-17</td>\n",
       "      <td>2.361736e-18</td>\n",
       "      <td>0.0</td>\n",
       "      <td>4.108187e-14</td>\n",
       "      <td>5.690394e-15</td>\n",
       "      <td>46.202822</td>\n",
       "      <td>0.012985</td>\n",
       "    </tr>\n",
       "    <tr>\n",
       "      <th>min</th>\n",
       "      <td>1.000000</td>\n",
       "      <td>0.001100</td>\n",
       "      <td>0.003720</td>\n",
       "      <td>1.000000e-03</td>\n",
       "      <td>2.000000e-05</td>\n",
       "      <td>1000.0</td>\n",
       "      <td>1.800000e+00</td>\n",
       "      <td>7.000000e-02</td>\n",
       "      <td>-90.000000</td>\n",
       "      <td>0.025000</td>\n",
       "    </tr>\n",
       "    <tr>\n",
       "      <th>25%</th>\n",
       "      <td>3.000000</td>\n",
       "      <td>0.016000</td>\n",
       "      <td>0.162055</td>\n",
       "      <td>1.000000e-03</td>\n",
       "      <td>2.000000e-05</td>\n",
       "      <td>1000.0</td>\n",
       "      <td>1.800000e+00</td>\n",
       "      <td>7.000000e-02</td>\n",
       "      <td>-10.000000</td>\n",
       "      <td>0.025000</td>\n",
       "    </tr>\n",
       "    <tr>\n",
       "      <th>50%</th>\n",
       "      <td>5.000000</td>\n",
       "      <td>0.250000</td>\n",
       "      <td>1.600000</td>\n",
       "      <td>1.000000e-03</td>\n",
       "      <td>2.000000e-05</td>\n",
       "      <td>1000.0</td>\n",
       "      <td>1.800000e+00</td>\n",
       "      <td>7.000000e-02</td>\n",
       "      <td>0.500000</td>\n",
       "      <td>0.051000</td>\n",
       "    </tr>\n",
       "    <tr>\n",
       "      <th>75%</th>\n",
       "      <td>5.000000</td>\n",
       "      <td>1.500000</td>\n",
       "      <td>10.000000</td>\n",
       "      <td>1.000000e-03</td>\n",
       "      <td>2.000000e-05</td>\n",
       "      <td>1000.0</td>\n",
       "      <td>1.800000e+00</td>\n",
       "      <td>7.000000e-02</td>\n",
       "      <td>20.000000</td>\n",
       "      <td>0.051000</td>\n",
       "    </tr>\n",
       "    <tr>\n",
       "      <th>max</th>\n",
       "      <td>7.000000</td>\n",
       "      <td>25.517000</td>\n",
       "      <td>42.956200</td>\n",
       "      <td>1.000000e-03</td>\n",
       "      <td>2.000000e-05</td>\n",
       "      <td>1000.0</td>\n",
       "      <td>1.800000e+00</td>\n",
       "      <td>7.000000e-02</td>\n",
       "      <td>90.000000</td>\n",
       "      <td>0.051000</td>\n",
       "    </tr>\n",
       "  </tbody>\n",
       "</table>\n",
       "</div>"
      ],
      "text/plain": [
       "       FlowPattern          Vsl          Vsg          VisL          VisG  \\\n",
       "count  5675.000000  5675.000000  5675.000000  5.675000e+03  5.675000e+03   \n",
       "mean      4.059912     0.899747     6.222612  1.000000e-03  2.000000e-05   \n",
       "std       1.379238     1.425159     8.699644  4.055273e-17  2.361736e-18   \n",
       "min       1.000000     0.001100     0.003720  1.000000e-03  2.000000e-05   \n",
       "25%       3.000000     0.016000     0.162055  1.000000e-03  2.000000e-05   \n",
       "50%       5.000000     0.250000     1.600000  1.000000e-03  2.000000e-05   \n",
       "75%       5.000000     1.500000    10.000000  1.000000e-03  2.000000e-05   \n",
       "max       7.000000    25.517000    42.956200  1.000000e-03  2.000000e-05   \n",
       "\n",
       "         DenL          DenG            ST          Ang           ID  \n",
       "count  5675.0  5.675000e+03  5.675000e+03  5675.000000  5675.000000  \n",
       "mean   1000.0  1.800000e+00  7.000000e-02     2.727401     0.038657  \n",
       "std       0.0  4.108187e-14  5.690394e-15    46.202822     0.012985  \n",
       "min    1000.0  1.800000e+00  7.000000e-02   -90.000000     0.025000  \n",
       "25%    1000.0  1.800000e+00  7.000000e-02   -10.000000     0.025000  \n",
       "50%    1000.0  1.800000e+00  7.000000e-02     0.500000     0.051000  \n",
       "75%    1000.0  1.800000e+00  7.000000e-02    20.000000     0.051000  \n",
       "max    1000.0  1.800000e+00  7.000000e-02    90.000000     0.051000  "
      ]
     },
     "metadata": {},
     "output_type": "display_data"
    },
    {
     "name": "stdout",
     "output_type": "stream",
     "text": [
      "\n",
      "\n"
     ]
    }
   ],
   "source": [
    "#Question 1_cont'd - Presenting Data Summary\n",
    "#Tabular representations\n",
    "print('Summary of the dataset - Univariate statistics')   \n",
    "display(dataset.describe(include='all'))\n",
    "print('\\n')"
   ]
  },
  {
   "cell_type": "code",
   "execution_count": 5,
   "id": "4011612f-ce01-4892-a981-965f34998518",
   "metadata": {},
   "outputs": [
    {
     "name": "stdout",
     "output_type": "stream",
     "text": [
      "Reading list of problem variables X and Y...\n",
      "done \n",
      "\n"
     ]
    }
   ],
   "source": [
    "#Graphical summaries will be done for spot checks of X and y (i.e, interested quantities for our Model development)\n",
    "#As such, we will set the X(features) and y(target) \n",
    "#In this case, the features (Vsl, Vsg, and Ang) will be used to predict FlowPattern\n",
    "print('Reading list of problem variables X and Y...')\n",
    "X_name = [ 'Vsl', 'Vsg', 'Ang' ] # columns to focus on as predictors\n",
    "X = dataset[X_name]   # only keep these columns as features\n",
    "y_name = 'FlowPattern'     # column to focus on as target\n",
    "y = dataset[y_name]   # only keep this column as label \n",
    "print('done \\n')"
   ]
  },
  {
   "cell_type": "code",
   "execution_count": 6,
   "id": "9a5ffc55-0aab-41b1-8758-612290115db6",
   "metadata": {},
   "outputs": [
    {
     "name": "stdout",
     "output_type": "stream",
     "text": [
      "Sample rows from X (top and bottom):\n"
     ]
    },
    {
     "data": {
      "text/html": [
       "<div>\n",
       "<style scoped>\n",
       "    .dataframe tbody tr th:only-of-type {\n",
       "        vertical-align: middle;\n",
       "    }\n",
       "\n",
       "    .dataframe tbody tr th {\n",
       "        vertical-align: top;\n",
       "    }\n",
       "\n",
       "    .dataframe thead th {\n",
       "        text-align: right;\n",
       "    }\n",
       "</style>\n",
       "<table border=\"1\" class=\"dataframe\">\n",
       "  <thead>\n",
       "    <tr style=\"text-align: right;\">\n",
       "      <th></th>\n",
       "      <th>Vsl</th>\n",
       "      <th>Vsg</th>\n",
       "      <th>Ang</th>\n",
       "    </tr>\n",
       "  </thead>\n",
       "  <tbody>\n",
       "    <tr>\n",
       "      <th>0</th>\n",
       "      <td>6.3</td>\n",
       "      <td>0.025</td>\n",
       "      <td>0.0</td>\n",
       "    </tr>\n",
       "    <tr>\n",
       "      <th>1</th>\n",
       "      <td>4.0</td>\n",
       "      <td>0.040</td>\n",
       "      <td>0.0</td>\n",
       "    </tr>\n",
       "    <tr>\n",
       "      <th>2</th>\n",
       "      <td>6.3</td>\n",
       "      <td>0.040</td>\n",
       "      <td>0.0</td>\n",
       "    </tr>\n",
       "    <tr>\n",
       "      <th>3</th>\n",
       "      <td>4.0</td>\n",
       "      <td>0.063</td>\n",
       "      <td>0.0</td>\n",
       "    </tr>\n",
       "    <tr>\n",
       "      <th>4</th>\n",
       "      <td>6.3</td>\n",
       "      <td>0.063</td>\n",
       "      <td>0.0</td>\n",
       "    </tr>\n",
       "  </tbody>\n",
       "</table>\n",
       "</div>"
      ],
      "text/plain": [
       "   Vsl    Vsg  Ang\n",
       "0  6.3  0.025  0.0\n",
       "1  4.0  0.040  0.0\n",
       "2  6.3  0.040  0.0\n",
       "3  4.0  0.063  0.0\n",
       "4  6.3  0.063  0.0"
      ]
     },
     "metadata": {},
     "output_type": "display_data"
    },
    {
     "data": {
      "text/html": [
       "<div>\n",
       "<style scoped>\n",
       "    .dataframe tbody tr th:only-of-type {\n",
       "        vertical-align: middle;\n",
       "    }\n",
       "\n",
       "    .dataframe tbody tr th {\n",
       "        vertical-align: top;\n",
       "    }\n",
       "\n",
       "    .dataframe thead th {\n",
       "        text-align: right;\n",
       "    }\n",
       "</style>\n",
       "<table border=\"1\" class=\"dataframe\">\n",
       "  <thead>\n",
       "    <tr style=\"text-align: right;\">\n",
       "      <th></th>\n",
       "      <th>Vsl</th>\n",
       "      <th>Vsg</th>\n",
       "      <th>Ang</th>\n",
       "    </tr>\n",
       "  </thead>\n",
       "  <tbody>\n",
       "    <tr>\n",
       "      <th>5670</th>\n",
       "      <td>2.70096</td>\n",
       "      <td>15.8561</td>\n",
       "      <td>-80.0</td>\n",
       "    </tr>\n",
       "    <tr>\n",
       "      <th>5671</th>\n",
       "      <td>1.58784</td>\n",
       "      <td>15.8394</td>\n",
       "      <td>-80.0</td>\n",
       "    </tr>\n",
       "    <tr>\n",
       "      <th>5672</th>\n",
       "      <td>1.05338</td>\n",
       "      <td>16.0692</td>\n",
       "      <td>-80.0</td>\n",
       "    </tr>\n",
       "    <tr>\n",
       "      <th>5673</th>\n",
       "      <td>1.05397</td>\n",
       "      <td>25.7439</td>\n",
       "      <td>-80.0</td>\n",
       "    </tr>\n",
       "    <tr>\n",
       "      <th>5674</th>\n",
       "      <td>1.66789</td>\n",
       "      <td>26.1616</td>\n",
       "      <td>-80.0</td>\n",
       "    </tr>\n",
       "  </tbody>\n",
       "</table>\n",
       "</div>"
      ],
      "text/plain": [
       "          Vsl      Vsg   Ang\n",
       "5670  2.70096  15.8561 -80.0\n",
       "5671  1.58784  15.8394 -80.0\n",
       "5672  1.05338  16.0692 -80.0\n",
       "5673  1.05397  25.7439 -80.0\n",
       "5674  1.66789  26.1616 -80.0"
      ]
     },
     "metadata": {},
     "output_type": "display_data"
    },
    {
     "name": "stdout",
     "output_type": "stream",
     "text": [
      "\n",
      "\n",
      "Statistical summary of X:\n"
     ]
    },
    {
     "data": {
      "text/html": [
       "<div>\n",
       "<style scoped>\n",
       "    .dataframe tbody tr th:only-of-type {\n",
       "        vertical-align: middle;\n",
       "    }\n",
       "\n",
       "    .dataframe tbody tr th {\n",
       "        vertical-align: top;\n",
       "    }\n",
       "\n",
       "    .dataframe thead th {\n",
       "        text-align: right;\n",
       "    }\n",
       "</style>\n",
       "<table border=\"1\" class=\"dataframe\">\n",
       "  <thead>\n",
       "    <tr style=\"text-align: right;\">\n",
       "      <th></th>\n",
       "      <th>Vsl</th>\n",
       "      <th>Vsg</th>\n",
       "      <th>Ang</th>\n",
       "    </tr>\n",
       "  </thead>\n",
       "  <tbody>\n",
       "    <tr>\n",
       "      <th>count</th>\n",
       "      <td>5675.000000</td>\n",
       "      <td>5675.000000</td>\n",
       "      <td>5675.000000</td>\n",
       "    </tr>\n",
       "    <tr>\n",
       "      <th>mean</th>\n",
       "      <td>0.899747</td>\n",
       "      <td>6.222612</td>\n",
       "      <td>2.727401</td>\n",
       "    </tr>\n",
       "    <tr>\n",
       "      <th>std</th>\n",
       "      <td>1.425159</td>\n",
       "      <td>8.699644</td>\n",
       "      <td>46.202822</td>\n",
       "    </tr>\n",
       "    <tr>\n",
       "      <th>min</th>\n",
       "      <td>0.001100</td>\n",
       "      <td>0.003720</td>\n",
       "      <td>-90.000000</td>\n",
       "    </tr>\n",
       "    <tr>\n",
       "      <th>25%</th>\n",
       "      <td>0.016000</td>\n",
       "      <td>0.162055</td>\n",
       "      <td>-10.000000</td>\n",
       "    </tr>\n",
       "    <tr>\n",
       "      <th>50%</th>\n",
       "      <td>0.250000</td>\n",
       "      <td>1.600000</td>\n",
       "      <td>0.500000</td>\n",
       "    </tr>\n",
       "    <tr>\n",
       "      <th>75%</th>\n",
       "      <td>1.500000</td>\n",
       "      <td>10.000000</td>\n",
       "      <td>20.000000</td>\n",
       "    </tr>\n",
       "    <tr>\n",
       "      <th>max</th>\n",
       "      <td>25.517000</td>\n",
       "      <td>42.956200</td>\n",
       "      <td>90.000000</td>\n",
       "    </tr>\n",
       "  </tbody>\n",
       "</table>\n",
       "</div>"
      ],
      "text/plain": [
       "               Vsl          Vsg          Ang\n",
       "count  5675.000000  5675.000000  5675.000000\n",
       "mean      0.899747     6.222612     2.727401\n",
       "std       1.425159     8.699644    46.202822\n",
       "min       0.001100     0.003720   -90.000000\n",
       "25%       0.016000     0.162055   -10.000000\n",
       "50%       0.250000     1.600000     0.500000\n",
       "75%       1.500000    10.000000    20.000000\n",
       "max      25.517000    42.956200    90.000000"
      ]
     },
     "metadata": {},
     "output_type": "display_data"
    },
    {
     "name": "stdout",
     "output_type": "stream",
     "text": [
      "\n",
      "\n",
      "Summary of X - Univariate graphs\n",
      "\n",
      "Histograms:\n"
     ]
    },
    {
     "data": {
      "image/png": "[encoded data removed]",
      "text/plain": [
       "<Figure size 1080x360 with 4 Axes>"
      ]
     },
     "metadata": {
      "needs_background": "light"
     },
     "output_type": "display_data"
    },
    {
     "name": "stdout",
     "output_type": "stream",
     "text": [
      "Box plots:\n"
     ]
    },
    {
     "data": {
      "image/png": "[encoded data removed]",
      "text/plain": [
       "<Figure size 1080x360 with 3 Axes>"
      ]
     },
     "metadata": {
      "needs_background": "light"
     },
     "output_type": "display_data"
    },
    {
     "name": "stdout",
     "output_type": "stream",
     "text": [
      "Summary of X - Bivariate (column-pair) graphs:\n",
      "\n",
      "Correlation matrix:\n"
     ]
    },
    {
     "data": {
      "image/png": "[encoded data removed]",
      "text/plain": [
       "<Figure size 432x288 with 2 Axes>"
      ]
     },
     "metadata": {
      "needs_background": "light"
     },
     "output_type": "display_data"
    }
   ],
   "source": [
    "#Question 1_cont'd - Tabular and Graphical summary (spot checks for X)\n",
    "\n",
    "print('Sample rows from X (top and bottom):')\n",
    "display(X.head(5))\n",
    "display(X.tail(5))\n",
    "print('\\n')\n",
    "\n",
    "print('Statistical summary of X:')\n",
    "display(X.describe())\n",
    "print('\\n')\n",
    "\n",
    "print('Summary of X - Univariate graphs\\n')\n",
    "\n",
    "print('Histograms:')\n",
    "X.hist(figsize=(15, 5), bins=75)  # bins ~= sqrt(N)\n",
    "pl.show()\n",
    "\n",
    "print('Box plots:')\n",
    "X.plot(figsize=(15, 5), kind='box', subplots=True, sharex=False, sharey=False)\n",
    "pl.show()\n",
    "\n",
    "print('Summary of X - Bivariate (column-pair) graphs:\\n')\n",
    "print('Correlation matrix:')\n",
    "corr = X.corr()\n",
    "sns.heatmap( corr, cmap='coolwarm', vmax=1.0, vmin=-1.0 );\n",
    "pl.show()"
   ]
  },
  {
   "cell_type": "code",
   "execution_count": 7,
   "id": "45890623-77c1-4dea-b324-5ee134386300",
   "metadata": {},
   "outputs": [
    {
     "name": "stdout",
     "output_type": "stream",
     "text": [
      "Summary of y:\n"
     ]
    },
    {
     "data": {
      "text/plain": [
       "5    2905\n",
       "4    1033\n",
       "3     878\n",
       "1     594\n",
       "2     140\n",
       "7     125\n",
       "Name: FlowPattern, dtype: int64"
      ]
     },
     "metadata": {},
     "output_type": "display_data"
    },
    {
     "name": "stdout",
     "output_type": "stream",
     "text": [
      "\n",
      "Sample rows from Y (top and bottom):\n"
     ]
    },
    {
     "data": {
      "text/plain": [
       "0    1\n",
       "1    1\n",
       "2    1\n",
       "3    1\n",
       "4    1\n",
       "Name: FlowPattern, dtype: int64"
      ]
     },
     "metadata": {},
     "output_type": "display_data"
    },
    {
     "name": "stdout",
     "output_type": "stream",
     "text": [
      "\n"
     ]
    },
    {
     "data": {
      "text/plain": [
       "5670    5\n",
       "5671    5\n",
       "5672    5\n",
       "5673    5\n",
       "5674    5\n",
       "Name: FlowPattern, dtype: int64"
      ]
     },
     "metadata": {},
     "output_type": "display_data"
    },
    {
     "name": "stdout",
     "output_type": "stream",
     "text": [
      "\n",
      "\n"
     ]
    }
   ],
   "source": [
    "#tabular_representation_for_y\n",
    "print('Summary of y:')\n",
    "display(y.value_counts())\n",
    "print()\n",
    "print('Sample rows from Y (top and bottom):')\n",
    "display(y.head(5))\n",
    "print()\n",
    "display(y.tail(5))\n",
    "print('\\n')"
   ]
  },
  {
   "cell_type": "code",
   "execution_count": 8,
   "id": "53411049-8b57-4373-845f-9b4cb1a78576",
   "metadata": {},
   "outputs": [
    {
     "name": "stdout",
     "output_type": "stream",
     "text": [
      "Summary of y - Univariate graph\n",
      "\n",
      "Histogram:\n"
     ]
    },
    {
     "data": {
      "image/png": "[encoded data removed]",
      "text/plain": [
       "<Figure size 1080x360 with 1 Axes>"
      ]
     },
     "metadata": {
      "needs_background": "light"
     },
     "output_type": "display_data"
    }
   ],
   "source": [
    "#graphical_representation_for_y\n",
    "print('Summary of y - Univariate graph\\n')\n",
    "\n",
    "print('Histogram:')\n",
    "y.hist(figsize=(15, 5), bins=75)  \n",
    "pl.show()"
   ]
  },
  {
   "cell_type": "code",
   "execution_count": 9,
   "id": "a33f101e-0114-44da-b5f4-ea7d69e96390",
   "metadata": {},
   "outputs": [
    {
     "name": "stdout",
     "output_type": "stream",
     "text": [
      "Partitioning data into parts: formative (for development) and summative (for testing) ...\n",
      "done with setting aside data for testing\n"
     ]
    }
   ],
   "source": [
    "# Question 2 - Setting up a classification problem\n",
    "\n",
    "# Split data into training and testing datasets\n",
    "from sklearn import model_selection\n",
    "\n",
    "print('Partitioning data into parts: formative (for development) and summative (for testing) ...')\n",
    "test_pct = 0.20   # reserve 20% of the data points for testing performance\n",
    "seed = 42          # specifying the seed allows for repeatability\n",
    "X_train, X_test, y_train, y_test = model_selection.train_test_split(X, y, test_size=test_pct, random_state=seed)\n",
    "print('done with setting aside data for testing')"
   ]
  },
  {
   "cell_type": "code",
   "execution_count": 10,
   "id": "d7174090-2966-4cbe-bea0-e54728ff31cb",
   "metadata": {},
   "outputs": [
    {
     "name": "stdout",
     "output_type": "stream",
     "text": [
      "Reading list of algorithms to train ...\n",
      "done \n",
      "\n"
     ]
    }
   ],
   "source": [
    "#Question 2 - training the model\n",
    "# Chose the Algorithms\n",
    "seed = 56 # setting the seed allows for repeatability\n",
    "\n",
    "print('Reading list of algorithms to train ...')\n",
    "models = []\n",
    "models.append(('LR', LogisticRegression(multi_class='multinomial', class_weight=None, solver='lbfgs', max_iter=250)))\n",
    "models.append(('Ridge', RidgeClassifier(alpha=10)))\n",
    "models.append(('kNN', KNeighborsClassifier(n_neighbors=5, weights='uniform', algorithm='auto', p=2)))\n",
    "print('done \\n')"
   ]
  },
  {
   "cell_type": "markdown",
   "id": "79ff17fe-dc90-4b65-a364-fb22ca62d274",
   "metadata": {},
   "source": [
    "### Time to use different scorers\n",
    "##### - accuracy, f1_weighted, and f1_macro are used below"
   ]
  },
  {
   "cell_type": "code",
   "execution_count": 11,
   "id": "1a8d2880-ea6a-4887-9186-83616f5c07fc",
   "metadata": {},
   "outputs": [
    {
     "name": "stdout",
     "output_type": "stream",
     "text": [
      " ++ NOW WORKING ON ALGORITHM LR ++\n",
      "Splitting data into 5 folds\n",
      "Training model on each split\n"
     ]
    },
    {
     "name": "stderr",
     "output_type": "stream",
     "text": [
      "/project/dsi/apps/anaconda3/python-3.10/lib/python3.10/site-packages/sklearn/linear_model/_logistic.py:814: ConvergenceWarning: lbfgs failed to converge (status=1):\n",
      "STOP: TOTAL NO. of ITERATIONS REACHED LIMIT.\n",
      "\n",
      "Increase the number of iterations (max_iter) or scale the data as shown in:\n",
      "    https://scikit-learn.org/stable/modules/preprocessing.html\n",
      "Please also refer to the documentation for alternative solver options:\n",
      "    https://scikit-learn.org/stable/modules/linear_model.html#logistic-regression\n",
      "  n_iter_i = _check_optimize_result(\n",
      "/project/dsi/apps/anaconda3/python-3.10/lib/python3.10/site-packages/sklearn/linear_model/_logistic.py:814: ConvergenceWarning: lbfgs failed to converge (status=1):\n",
      "STOP: TOTAL NO. of ITERATIONS REACHED LIMIT.\n",
      "\n",
      "Increase the number of iterations (max_iter) or scale the data as shown in:\n",
      "    https://scikit-learn.org/stable/modules/preprocessing.html\n",
      "Please also refer to the documentation for alternative solver options:\n",
      "    https://scikit-learn.org/stable/modules/linear_model.html#logistic-regression\n",
      "  n_iter_i = _check_optimize_result(\n",
      "/project/dsi/apps/anaconda3/python-3.10/lib/python3.10/site-packages/sklearn/linear_model/_logistic.py:814: ConvergenceWarning: lbfgs failed to converge (status=1):\n",
      "STOP: TOTAL NO. of ITERATIONS REACHED LIMIT.\n",
      "\n",
      "Increase the number of iterations (max_iter) or scale the data as shown in:\n",
      "    https://scikit-learn.org/stable/modules/preprocessing.html\n",
      "Please also refer to the documentation for alternative solver options:\n",
      "    https://scikit-learn.org/stable/modules/linear_model.html#logistic-regression\n",
      "  n_iter_i = _check_optimize_result(\n",
      "/project/dsi/apps/anaconda3/python-3.10/lib/python3.10/site-packages/sklearn/linear_model/_logistic.py:814: ConvergenceWarning: lbfgs failed to converge (status=1):\n",
      "STOP: TOTAL NO. of ITERATIONS REACHED LIMIT.\n",
      "\n",
      "Increase the number of iterations (max_iter) or scale the data as shown in:\n",
      "    https://scikit-learn.org/stable/modules/preprocessing.html\n",
      "Please also refer to the documentation for alternative solver options:\n",
      "    https://scikit-learn.org/stable/modules/linear_model.html#logistic-regression\n",
      "  n_iter_i = _check_optimize_result(\n",
      "/project/dsi/apps/anaconda3/python-3.10/lib/python3.10/site-packages/sklearn/linear_model/_logistic.py:814: ConvergenceWarning: lbfgs failed to converge (status=1):\n",
      "STOP: TOTAL NO. of ITERATIONS REACHED LIMIT.\n",
      "\n",
      "Increase the number of iterations (max_iter) or scale the data as shown in:\n",
      "    https://scikit-learn.org/stable/modules/preprocessing.html\n",
      "Please also refer to the documentation for alternative solver options:\n",
      "    https://scikit-learn.org/stable/modules/linear_model.html#logistic-regression\n",
      "  n_iter_i = _check_optimize_result(\n"
     ]
    },
    {
     "name": "stdout",
     "output_type": "stream",
     "text": [
      "algorithm LR accuracy results: mean = 0.665419 (std = 0.021496)\n",
      " ++ NOW WORKING ON ALGORITHM Ridge ++\n",
      "Splitting data into 5 folds\n",
      "Training model on each split\n",
      "algorithm Ridge accuracy results: mean = 0.608370 (std = 0.019448)\n",
      " ++ NOW WORKING ON ALGORITHM kNN ++\n",
      "Splitting data into 5 folds\n",
      "Training model on each split\n",
      "algorithm kNN accuracy results: mean = 0.837665 (std = 0.008772)\n",
      "done \n",
      "\n"
     ]
    }
   ],
   "source": [
    "#Question 3 - cont'd\n",
    "# Now it is time to use cross_validation.\n",
    "#Note that Kfold is used to for validation. Since K is 5, it means the four parts of the split data will be used for fitting the model \n",
    "#and the 5th part will be used for evaluation and validation\n",
    "scoring = 'accuracy' #used for scoring methods in model development\n",
    "k4folds = 5\n",
    "results = []\n",
    "names = []\n",
    "for name, model in models:   # Select each model in turn\n",
    "    print(\" ++ NOW WORKING ON ALGORITHM %s ++\" % name)\n",
    "    print(\"Splitting data into %s folds\" % k4folds)\n",
    "    kfold = model_selection.KFold(n_splits=k4folds, random_state=seed, shuffle=True)\n",
    "    print(\"Training model on each split\")\n",
    "    cv_results = model_selection.cross_val_score(model, X_train, y_train, cv=kfold, scoring=scoring)\n",
    "    results.append(cv_results)\n",
    "    names.append(name)\n",
    "    msg = \"algorithm %s %s results: mean = %f (std = %f)\" % (name, scoring, cv_results.mean(), cv_results.std())\n",
    "    print(msg)\n",
    "\n",
    "print('done \\n')"
   ]
  },
  {
   "cell_type": "code",
   "execution_count": 12,
   "id": "4d50f585-a9cb-4adc-ace9-ef7a78207866",
   "metadata": {},
   "outputs": [
    {
     "name": "stdout",
     "output_type": "stream",
     "text": [
      " ++ NOW WORKING ON ALGORITHM LR ++\n",
      "Splitting data into 5 folds\n",
      "Training model on each split\n"
     ]
    },
    {
     "name": "stderr",
     "output_type": "stream",
     "text": [
      "/project/dsi/apps/anaconda3/python-3.10/lib/python3.10/site-packages/sklearn/linear_model/_logistic.py:814: ConvergenceWarning: lbfgs failed to converge (status=1):\n",
      "STOP: TOTAL NO. of ITERATIONS REACHED LIMIT.\n",
      "\n",
      "Increase the number of iterations (max_iter) or scale the data as shown in:\n",
      "    https://scikit-learn.org/stable/modules/preprocessing.html\n",
      "Please also refer to the documentation for alternative solver options:\n",
      "    https://scikit-learn.org/stable/modules/linear_model.html#logistic-regression\n",
      "  n_iter_i = _check_optimize_result(\n",
      "/project/dsi/apps/anaconda3/python-3.10/lib/python3.10/site-packages/sklearn/linear_model/_logistic.py:814: ConvergenceWarning: lbfgs failed to converge (status=1):\n",
      "STOP: TOTAL NO. of ITERATIONS REACHED LIMIT.\n",
      "\n",
      "Increase the number of iterations (max_iter) or scale the data as shown in:\n",
      "    https://scikit-learn.org/stable/modules/preprocessing.html\n",
      "Please also refer to the documentation for alternative solver options:\n",
      "    https://scikit-learn.org/stable/modules/linear_model.html#logistic-regression\n",
      "  n_iter_i = _check_optimize_result(\n",
      "/project/dsi/apps/anaconda3/python-3.10/lib/python3.10/site-packages/sklearn/linear_model/_logistic.py:814: ConvergenceWarning: lbfgs failed to converge (status=1):\n",
      "STOP: TOTAL NO. of ITERATIONS REACHED LIMIT.\n",
      "\n",
      "Increase the number of iterations (max_iter) or scale the data as shown in:\n",
      "    https://scikit-learn.org/stable/modules/preprocessing.html\n",
      "Please also refer to the documentation for alternative solver options:\n",
      "    https://scikit-learn.org/stable/modules/linear_model.html#logistic-regression\n",
      "  n_iter_i = _check_optimize_result(\n",
      "/project/dsi/apps/anaconda3/python-3.10/lib/python3.10/site-packages/sklearn/linear_model/_logistic.py:814: ConvergenceWarning: lbfgs failed to converge (status=1):\n",
      "STOP: TOTAL NO. of ITERATIONS REACHED LIMIT.\n",
      "\n",
      "Increase the number of iterations (max_iter) or scale the data as shown in:\n",
      "    https://scikit-learn.org/stable/modules/preprocessing.html\n",
      "Please also refer to the documentation for alternative solver options:\n",
      "    https://scikit-learn.org/stable/modules/linear_model.html#logistic-regression\n",
      "  n_iter_i = _check_optimize_result(\n",
      "/project/dsi/apps/anaconda3/python-3.10/lib/python3.10/site-packages/sklearn/linear_model/_logistic.py:814: ConvergenceWarning: lbfgs failed to converge (status=1):\n",
      "STOP: TOTAL NO. of ITERATIONS REACHED LIMIT.\n",
      "\n",
      "Increase the number of iterations (max_iter) or scale the data as shown in:\n",
      "    https://scikit-learn.org/stable/modules/preprocessing.html\n",
      "Please also refer to the documentation for alternative solver options:\n",
      "    https://scikit-learn.org/stable/modules/linear_model.html#logistic-regression\n",
      "  n_iter_i = _check_optimize_result(\n"
     ]
    },
    {
     "name": "stdout",
     "output_type": "stream",
     "text": [
      "algorithm LR f1_weighted results: mean = 0.630586 (std = 0.023378)\n",
      " ++ NOW WORKING ON ALGORITHM Ridge ++\n",
      "Splitting data into 5 folds\n",
      "Training model on each split\n",
      "algorithm Ridge f1_weighted results: mean = 0.525009 (std = 0.023357)\n",
      " ++ NOW WORKING ON ALGORITHM kNN ++\n",
      "Splitting data into 5 folds\n",
      "Training model on each split\n",
      "algorithm kNN f1_weighted results: mean = 0.839408 (std = 0.009081)\n",
      "done \n",
      "\n"
     ]
    }
   ],
   "source": [
    "#Question 3 - cont'd\n",
    "scoring = 'f1_weighted' #used for scoring methods in model development\n",
    "k4folds = 5\n",
    "results = []\n",
    "names = []\n",
    "for name, model in models:   # Select each model in turn\n",
    "    print(\" ++ NOW WORKING ON ALGORITHM %s ++\" % name)\n",
    "    print(\"Splitting data into %s folds\" % k4folds)\n",
    "    kfold = model_selection.KFold(n_splits=k4folds, random_state=seed, shuffle=True)\n",
    "    print(\"Training model on each split\")\n",
    "    cv_results = model_selection.cross_val_score(model, X_train, y_train, cv=kfold, scoring=scoring)\n",
    "    results.append(cv_results)\n",
    "    names.append(name)\n",
    "    msg = \"algorithm %s %s results: mean = %f (std = %f)\" % (name, scoring, cv_results.mean(), cv_results.std())\n",
    "    print(msg)\n",
    "\n",
    "print('done \\n')"
   ]
  },
  {
   "cell_type": "code",
   "execution_count": 13,
   "id": "a180aab3-93d3-4f96-969b-def30f033c91",
   "metadata": {},
   "outputs": [
    {
     "name": "stdout",
     "output_type": "stream",
     "text": [
      " ++ NOW WORKING ON ALGORITHM LR ++\n",
      "Splitting data into 5 folds\n",
      "Training model on each split\n"
     ]
    },
    {
     "name": "stderr",
     "output_type": "stream",
     "text": [
      "/project/dsi/apps/anaconda3/python-3.10/lib/python3.10/site-packages/sklearn/linear_model/_logistic.py:814: ConvergenceWarning: lbfgs failed to converge (status=1):\n",
      "STOP: TOTAL NO. of ITERATIONS REACHED LIMIT.\n",
      "\n",
      "Increase the number of iterations (max_iter) or scale the data as shown in:\n",
      "    https://scikit-learn.org/stable/modules/preprocessing.html\n",
      "Please also refer to the documentation for alternative solver options:\n",
      "    https://scikit-learn.org/stable/modules/linear_model.html#logistic-regression\n",
      "  n_iter_i = _check_optimize_result(\n",
      "/project/dsi/apps/anaconda3/python-3.10/lib/python3.10/site-packages/sklearn/linear_model/_logistic.py:814: ConvergenceWarning: lbfgs failed to converge (status=1):\n",
      "STOP: TOTAL NO. of ITERATIONS REACHED LIMIT.\n",
      "\n",
      "Increase the number of iterations (max_iter) or scale the data as shown in:\n",
      "    https://scikit-learn.org/stable/modules/preprocessing.html\n",
      "Please also refer to the documentation for alternative solver options:\n",
      "    https://scikit-learn.org/stable/modules/linear_model.html#logistic-regression\n",
      "  n_iter_i = _check_optimize_result(\n",
      "/project/dsi/apps/anaconda3/python-3.10/lib/python3.10/site-packages/sklearn/linear_model/_logistic.py:814: ConvergenceWarning: lbfgs failed to converge (status=1):\n",
      "STOP: TOTAL NO. of ITERATIONS REACHED LIMIT.\n",
      "\n",
      "Increase the number of iterations (max_iter) or scale the data as shown in:\n",
      "    https://scikit-learn.org/stable/modules/preprocessing.html\n",
      "Please also refer to the documentation for alternative solver options:\n",
      "    https://scikit-learn.org/stable/modules/linear_model.html#logistic-regression\n",
      "  n_iter_i = _check_optimize_result(\n",
      "/project/dsi/apps/anaconda3/python-3.10/lib/python3.10/site-packages/sklearn/linear_model/_logistic.py:814: ConvergenceWarning: lbfgs failed to converge (status=1):\n",
      "STOP: TOTAL NO. of ITERATIONS REACHED LIMIT.\n",
      "\n",
      "Increase the number of iterations (max_iter) or scale the data as shown in:\n",
      "    https://scikit-learn.org/stable/modules/preprocessing.html\n",
      "Please also refer to the documentation for alternative solver options:\n",
      "    https://scikit-learn.org/stable/modules/linear_model.html#logistic-regression\n",
      "  n_iter_i = _check_optimize_result(\n",
      "/project/dsi/apps/anaconda3/python-3.10/lib/python3.10/site-packages/sklearn/linear_model/_logistic.py:814: ConvergenceWarning: lbfgs failed to converge (status=1):\n",
      "STOP: TOTAL NO. of ITERATIONS REACHED LIMIT.\n",
      "\n",
      "Increase the number of iterations (max_iter) or scale the data as shown in:\n",
      "    https://scikit-learn.org/stable/modules/preprocessing.html\n",
      "Please also refer to the documentation for alternative solver options:\n",
      "    https://scikit-learn.org/stable/modules/linear_model.html#logistic-regression\n",
      "  n_iter_i = _check_optimize_result(\n"
     ]
    },
    {
     "name": "stdout",
     "output_type": "stream",
     "text": [
      "algorithm LR f1_macro results: mean = 0.476544 (std = 0.023835)\n",
      " ++ NOW WORKING ON ALGORITHM Ridge ++\n",
      "Splitting data into 5 folds\n",
      "Training model on each split\n",
      "algorithm Ridge f1_macro results: mean = 0.288442 (std = 0.016201)\n",
      " ++ NOW WORKING ON ALGORITHM kNN ++\n",
      "Splitting data into 5 folds\n",
      "Training model on each split\n",
      "algorithm kNN f1_macro results: mean = 0.790684 (std = 0.015274)\n",
      "done \n",
      "\n"
     ]
    }
   ],
   "source": [
    "#Question 3 - cont'd\n",
    "scoring = 'f1_macro' #used for scoring methods in model development\n",
    "k4folds = 5\n",
    "results = []\n",
    "names = []\n",
    "for name, model in models:   # Select each model in turn\n",
    "    print(\" ++ NOW WORKING ON ALGORITHM %s ++\" % name)\n",
    "    print(\"Splitting data into %s folds\" % k4folds)\n",
    "    kfold = model_selection.KFold(n_splits=k4folds, random_state=seed, shuffle=True)\n",
    "    print(\"Training model on each split\")\n",
    "    cv_results = model_selection.cross_val_score(model, X_train, y_train, cv=kfold, scoring=scoring)\n",
    "    results.append(cv_results)\n",
    "    names.append(name)\n",
    "    msg = \"algorithm %s %s results: mean = %f (std = %f)\" % (name, scoring, cv_results.mean(), cv_results.std())\n",
    "    print(msg)\n",
    "\n",
    "print('done \\n')"
   ]
  },
  {
   "cell_type": "markdown",
   "id": "ce0ad2ab-7806-4473-b188-05b5122a8dca",
   "metadata": {},
   "source": [
    "## Inferences:\n",
    "\n",
    "##### - We have now created and train three different models which include \"Logistic Regression, Ridge Classifier, and K Neighbors Classifier\". \n",
    "\n",
    "##### - As such, we will evaluate the performances of the three models using K-fold cross validation across three different scorers including accuracy, f1_weighted, and f1_macro.\n",
    "\n",
    "##### - From inspection, Logistic regression could not converge as iterations reached its limit. While we can still produce with this model, we expect that its accuracy will be short-changed. This still happened despite setting seed to 56 to ensure repeatibility. \n",
    "\n",
    "#### Clearly, kNN exhibits the best performance among the three models as it is redlectted in its accuracy mean and standard deviation. \n",
    "\n",
    "##### - A box plot is created below to graphically represent the comparative performance of the models. Note that the box plots show the spread and mean of the models' accuracies. "
   ]
  },
  {
   "cell_type": "code",
   "execution_count": 14,
   "id": "7fc1fd13-6200-40d7-88b3-eddcb76fb840",
   "metadata": {},
   "outputs": [
    {
     "data": {
      "image/png": "[encoded data removed]",
      "text/plain": [
       "<Figure size 432x288 with 1 Axes>"
      ]
     },
     "metadata": {
      "needs_background": "light"
     },
     "output_type": "display_data"
    }
   ],
   "source": [
    "# Compare Algorithms\n",
    "fig = pl.figure()\n",
    "fig.suptitle('Algorithm Comparison based on %s' % scoring)\n",
    "ax = fig.add_subplot(111)\n",
    "pl.boxplot(results)\n",
    "ax.set_xticklabels(names)\n",
    "pl.show()"
   ]
  },
  {
   "cell_type": "code",
   "execution_count": 16,
   "id": "da380aca-e0f3-40a6-af14-618e04546351",
   "metadata": {},
   "outputs": [
    {
     "name": "stdout",
     "output_type": "stream",
     "text": [
      "Working on modified model fitting...\n",
      "Done!\n"
     ]
    }
   ],
   "source": [
    "#Question 4\n",
    "#Since kNN is the best model, it will be selected for tuning by modifying its hyperparameters\n",
    "#models.append(('kNN', KNeighborsClassifier(n_neighbors=5, weights='uniform', algorithm='auto', p=2))) - default setting evaluated earlier\n",
    "kNN = KNeighborsClassifier(n_neighbors=3, weights='distance', algorithm='auto', p=2) #modified model\n",
    "print('Working on modified model fitting...')\n",
    "kNN.fit(X_train,y_train)  \n",
    "print('Done!') "
   ]
  },
  {
   "cell_type": "code",
   "execution_count": 17,
   "id": "40a97bc3-c61f-437d-b08b-0f766ea13e57",
   "metadata": {},
   "outputs": [
    {
     "name": "stdout",
     "output_type": "stream",
     "text": [
      "NOW WORKING ON MODIFIED KNN\n",
      "Splitting data into 5 folds\n",
      "Training model on each split\n",
      "algorithm kNN results accuracy results: mean = 0.855947 (std = 0.008514)\n",
      "done \n",
      "\n"
     ]
    }
   ],
   "source": [
    "#\n",
    "scoring = 'accuracy' #used for scoring methods in model development\n",
    "k4folds = 5\n",
    "print(\"NOW WORKING ON MODIFIED KNN\")\n",
    "print(\"Splitting data into %s folds\" % k4folds)\n",
    "kfold = model_selection.KFold(n_splits=k4folds, random_state=seed, shuffle=True)\n",
    "print(\"Training model on each split\")\n",
    "cv_results = model_selection.cross_val_score(kNN, X_train, y_train, cv=kfold, scoring=scoring)\n",
    "msg = \"algorithm %s %s results: mean = %f (std = %f)\" % (\"kNN results\", scoring, cv_results.mean(), cv_results.std())\n",
    "print(msg)\n",
    "\n",
    "    \n",
    "print('done \\n')"
   ]
  },
  {
   "cell_type": "markdown",
   "id": "3d2e0e2b-b6f7-46da-8b3f-f18536df1818",
   "metadata": {},
   "source": [
    "### Inferences on hyperparameters modification\n",
    "\n",
    "##### - Two hyperparameters were modified for kNN. \n",
    "##### - Specifically, the weight option was modified to \"distance\"; uniform being the default settings\n",
    "##### - And the n_neighbors was changed from 5 to 3. \n",
    "\n",
    "#### As indicated above, the kNN model improved in its performance by about 2% with lesser spread (std) when compared to the accuracy scorer. Thus, the hyperparameter tuning will be adopted."
   ]
  },
  {
   "cell_type": "markdown",
   "id": "93bb13e7-b710-4fc0-95e5-942759481098",
   "metadata": {},
   "source": [
    "#### --------------------------------------------------------------\n",
    "### Time to use the test set on the best model\n",
    "##### ------------------------------------------------------------------------------"
   ]
  },
  {
   "cell_type": "code",
   "execution_count": 20,
   "id": "2e65c7c8-0434-4339-9310-7e49da465fb3",
   "metadata": {},
   "outputs": [
    {
     "name": "stdout",
     "output_type": "stream",
     "text": [
      "RESULTS for modified kNN\n",
      "Accuracy 0.8757709251101321\n"
     ]
    },
    {
     "data": {
      "image/png": "[encoded data removed]",
      "text/plain": [
       "<Figure size 432x288 with 1 Axes>"
      ]
     },
     "metadata": {
      "needs_background": "light"
     },
     "output_type": "display_data"
    },
    {
     "name": "stdout",
     "output_type": "stream",
     "text": [
      "\n",
      " clasification report:\n",
      "               precision    recall  f1-score   support\n",
      "\n",
      "           1       0.76      0.83      0.79       102\n",
      "           2       0.75      0.89      0.81        27\n",
      "           3       0.88      0.84      0.86       192\n",
      "           4       0.81      0.90      0.85       200\n",
      "           5       0.94      0.89      0.91       593\n",
      "           7       0.77      0.81      0.79        21\n",
      "\n",
      "    accuracy                           0.88      1135\n",
      "   macro avg       0.82      0.86      0.84      1135\n",
      "weighted avg       0.88      0.88      0.88      1135\n",
      "\n",
      "Cohen Kappa Score: 0.8143204221430163\n",
      "\n",
      "\n"
     ]
    }
   ],
   "source": [
    "y_predicted = kNN.predict(X_test)\n",
    "print(\"RESULTS for modified kNN\")\n",
    "print(\"Accuracy\", accuracy_score(y_test, y_predicted))\n",
    "sns.heatmap(confusion_matrix(y_test, y_predicted), square=True, annot=True, fmt='d', cbar=False)\n",
    "pl.xlabel(\"predicted\")\n",
    "pl.ylabel(\"true\")\n",
    "pl.show()\n",
    "print('\\n clasification report:\\n', classification_report(y_test, y_predicted))\n",
    "print('Cohen Kappa Score:', cohen_kappa_score(y_test, y_predicted))\n",
    "print('\\n')  "
   ]
  },
  {
   "cell_type": "markdown",
   "id": "73d8a7e6-a002-44ac-805c-bcc184bfa153",
   "metadata": {},
   "source": [
    "## Final Inference\n",
    "### Clearly, the modified model excellently performed well. One could notice that its scores closely match (slightly above) those obtained during the cross validation stage. Thus, the pracitce exams reflected well in the final external exams (summative)."
   ]
  }
 ],
 "metadata": {
  "kernelspec": {
   "display_name": "Python 3.10",
   "language": "python",
   "name": "python3.10"
  },
  "language_info": {
   "codemirror_mode": {
    "name": "ipython",
    "version": 3
   },
   "file_extension": ".py",
   "mimetype": "text/x-python",
   "name": "python",
   "nbconvert_exporter": "python",
   "pygments_lexer": "ipython3",
   "version": "3.10.4"
  }
 },
 "nbformat": 4,
 "nbformat_minor": 5
}
